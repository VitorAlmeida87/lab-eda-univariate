{
 "cells": [
  {
   "cell_type": "markdown",
   "id": "2258021b",
   "metadata": {},
   "source": [
    "## Lab - EDA Univariate Analysis: Diving into Amazon UK Product Insights\n",
    "\n",
    "**Objective**: Explore the product listing dynamics on Amazon UK to extract actionable business insights. By understanding the distribution, central tendencies, and relationships of various product attributes, businesses can make more informed decisions on product positioning, pricing strategies, and inventory management.\n",
    "\n",
    "**Dataset**: This lab utilizes the [Amazon UK product dataset](https://www.kaggle.com/datasets/asaniczka/uk-optimal-product-price-prediction/)\n",
    "which provides information on product categories, brands, prices, ratings, and more from from Amazon UK. You'll need to download it to start working with it.\n",
    "\n",
    "\n",
    "---\n",
    "\n",
    "### Part 1: Understanding Product Categories\n",
    "\n",
    "**Business Question**: What are the most popular product categories on Amazon UK, and how do they compare in terms of listing frequency?\n",
    "\n",
    "1. **Frequency Tables**:\n",
    "    - Generate a frequency table for the product `category`.\n",
    "    - Which are the top 5 most listed product categories?\n",
    "\n",
    "2. **Visualizations**:\n",
    "    - Display the distribution of products across different categories using a bar chart. *If you face problems understanding the chart, do it for a subset of top categories.*\n",
    "    - For a subset of top categories, visualize their proportions using a pie chart. Does any category dominate the listings?"
   ]
  },
  {
   "cell_type": "code",
   "execution_count": 2,
   "id": "c9a2bc57",
   "metadata": {},
   "outputs": [],
   "source": [
    "import pandas as pd\n",
    "import matplotlib.pyplot as plt\n",
    "import seaborn as sns\n",
    "import numpy as np\n",
    "\n",
    "%matplotlib inline\n",
    "pd.set_option('display.max_columns', None)"
   ]
  },
  {
   "cell_type": "code",
   "execution_count": 3,
   "id": "c3279b6e",
   "metadata": {},
   "outputs": [
    {
     "data": {
      "text/html": [
       "<div>\n",
       "<style scoped>\n",
       "    .dataframe tbody tr th:only-of-type {\n",
       "        vertical-align: middle;\n",
       "    }\n",
       "\n",
       "    .dataframe tbody tr th {\n",
       "        vertical-align: top;\n",
       "    }\n",
       "\n",
       "    .dataframe thead th {\n",
       "        text-align: right;\n",
       "    }\n",
       "</style>\n",
       "<table border=\"1\" class=\"dataframe\">\n",
       "  <thead>\n",
       "    <tr style=\"text-align: right;\">\n",
       "      <th></th>\n",
       "      <th>uid</th>\n",
       "      <th>asin</th>\n",
       "      <th>title</th>\n",
       "      <th>stars</th>\n",
       "      <th>reviews</th>\n",
       "      <th>price</th>\n",
       "      <th>isBestSeller</th>\n",
       "      <th>boughtInLastMonth</th>\n",
       "      <th>category</th>\n",
       "    </tr>\n",
       "  </thead>\n",
       "  <tbody>\n",
       "    <tr>\n",
       "      <th>0</th>\n",
       "      <td>1</td>\n",
       "      <td>B09B96TG33</td>\n",
       "      <td>Echo Dot (5th generation, 2022 release) | Big ...</td>\n",
       "      <td>4.7</td>\n",
       "      <td>15308</td>\n",
       "      <td>21.99</td>\n",
       "      <td>False</td>\n",
       "      <td>0</td>\n",
       "      <td>Hi-Fi Speakers</td>\n",
       "    </tr>\n",
       "    <tr>\n",
       "      <th>1</th>\n",
       "      <td>2</td>\n",
       "      <td>B01HTH3C8S</td>\n",
       "      <td>Anker Soundcore mini, Super-Portable Bluetooth...</td>\n",
       "      <td>4.7</td>\n",
       "      <td>98099</td>\n",
       "      <td>23.99</td>\n",
       "      <td>True</td>\n",
       "      <td>0</td>\n",
       "      <td>Hi-Fi Speakers</td>\n",
       "    </tr>\n",
       "    <tr>\n",
       "      <th>2</th>\n",
       "      <td>3</td>\n",
       "      <td>B09B8YWXDF</td>\n",
       "      <td>Echo Dot (5th generation, 2022 release) | Big ...</td>\n",
       "      <td>4.7</td>\n",
       "      <td>15308</td>\n",
       "      <td>21.99</td>\n",
       "      <td>False</td>\n",
       "      <td>0</td>\n",
       "      <td>Hi-Fi Speakers</td>\n",
       "    </tr>\n",
       "    <tr>\n",
       "      <th>3</th>\n",
       "      <td>4</td>\n",
       "      <td>B09B8T5VGV</td>\n",
       "      <td>Echo Dot with clock (5th generation, 2022 rele...</td>\n",
       "      <td>4.7</td>\n",
       "      <td>7205</td>\n",
       "      <td>31.99</td>\n",
       "      <td>False</td>\n",
       "      <td>0</td>\n",
       "      <td>Hi-Fi Speakers</td>\n",
       "    </tr>\n",
       "    <tr>\n",
       "      <th>4</th>\n",
       "      <td>5</td>\n",
       "      <td>B09WX6QD65</td>\n",
       "      <td>Introducing Echo Pop | Full sound compact Wi-F...</td>\n",
       "      <td>4.6</td>\n",
       "      <td>1881</td>\n",
       "      <td>17.99</td>\n",
       "      <td>False</td>\n",
       "      <td>0</td>\n",
       "      <td>Hi-Fi Speakers</td>\n",
       "    </tr>\n",
       "  </tbody>\n",
       "</table>\n",
       "</div>"
      ],
      "text/plain": [
       "   uid        asin                                              title  stars  \\\n",
       "0    1  B09B96TG33  Echo Dot (5th generation, 2022 release) | Big ...    4.7   \n",
       "1    2  B01HTH3C8S  Anker Soundcore mini, Super-Portable Bluetooth...    4.7   \n",
       "2    3  B09B8YWXDF  Echo Dot (5th generation, 2022 release) | Big ...    4.7   \n",
       "3    4  B09B8T5VGV  Echo Dot with clock (5th generation, 2022 rele...    4.7   \n",
       "4    5  B09WX6QD65  Introducing Echo Pop | Full sound compact Wi-F...    4.6   \n",
       "\n",
       "   reviews  price  isBestSeller  boughtInLastMonth        category  \n",
       "0    15308  21.99         False                  0  Hi-Fi Speakers  \n",
       "1    98099  23.99          True                  0  Hi-Fi Speakers  \n",
       "2    15308  21.99         False                  0  Hi-Fi Speakers  \n",
       "3     7205  31.99         False                  0  Hi-Fi Speakers  \n",
       "4     1881  17.99         False                  0  Hi-Fi Speakers  "
      ]
     },
     "execution_count": 3,
     "metadata": {},
     "output_type": "execute_result"
    }
   ],
   "source": [
    "df = pd.read_csv(\"amz_uk_price_prediction_dataset.csv\")\n",
    "df.head()\n"
   ]
  },
  {
   "cell_type": "code",
   "execution_count": 4,
   "id": "a9195b74",
   "metadata": {},
   "outputs": [
    {
     "name": "stdout",
     "output_type": "stream",
     "text": [
      "<class 'pandas.core.frame.DataFrame'>\n",
      "RangeIndex: 2443651 entries, 0 to 2443650\n",
      "Data columns (total 9 columns):\n",
      " #   Column             Dtype  \n",
      "---  ------             -----  \n",
      " 0   uid                int64  \n",
      " 1   asin               object \n",
      " 2   title              object \n",
      " 3   stars              float64\n",
      " 4   reviews            int64  \n",
      " 5   price              float64\n",
      " 6   isBestSeller       bool   \n",
      " 7   boughtInLastMonth  int64  \n",
      " 8   category           object \n",
      "dtypes: bool(1), float64(2), int64(3), object(3)\n",
      "memory usage: 151.5+ MB\n"
     ]
    }
   ],
   "source": [
    "df.info()"
   ]
  },
  {
   "cell_type": "code",
   "execution_count": 5,
   "id": "2b645b00",
   "metadata": {},
   "outputs": [
    {
     "data": {
      "text/html": [
       "<div>\n",
       "<style scoped>\n",
       "    .dataframe tbody tr th:only-of-type {\n",
       "        vertical-align: middle;\n",
       "    }\n",
       "\n",
       "    .dataframe tbody tr th {\n",
       "        vertical-align: top;\n",
       "    }\n",
       "\n",
       "    .dataframe thead th {\n",
       "        text-align: right;\n",
       "    }\n",
       "</style>\n",
       "<table border=\"1\" class=\"dataframe\">\n",
       "  <thead>\n",
       "    <tr style=\"text-align: right;\">\n",
       "      <th></th>\n",
       "      <th>uid</th>\n",
       "      <th>stars</th>\n",
       "      <th>reviews</th>\n",
       "      <th>price</th>\n",
       "      <th>boughtInLastMonth</th>\n",
       "    </tr>\n",
       "  </thead>\n",
       "  <tbody>\n",
       "    <tr>\n",
       "      <th>count</th>\n",
       "      <td>2.443651e+06</td>\n",
       "      <td>2.443651e+06</td>\n",
       "      <td>2.443651e+06</td>\n",
       "      <td>2.443651e+06</td>\n",
       "      <td>2.443651e+06</td>\n",
       "    </tr>\n",
       "    <tr>\n",
       "      <th>mean</th>\n",
       "      <td>1.370545e+06</td>\n",
       "      <td>2.152836e+00</td>\n",
       "      <td>4.806278e+02</td>\n",
       "      <td>8.924381e+01</td>\n",
       "      <td>2.589699e+01</td>\n",
       "    </tr>\n",
       "    <tr>\n",
       "      <th>std</th>\n",
       "      <td>8.160562e+05</td>\n",
       "      <td>2.194865e+00</td>\n",
       "      <td>5.944124e+03</td>\n",
       "      <td>3.456089e+02</td>\n",
       "      <td>2.404837e+02</td>\n",
       "    </tr>\n",
       "    <tr>\n",
       "      <th>min</th>\n",
       "      <td>1.000000e+00</td>\n",
       "      <td>0.000000e+00</td>\n",
       "      <td>0.000000e+00</td>\n",
       "      <td>0.000000e+00</td>\n",
       "      <td>0.000000e+00</td>\n",
       "    </tr>\n",
       "    <tr>\n",
       "      <th>25%</th>\n",
       "      <td>6.589215e+05</td>\n",
       "      <td>0.000000e+00</td>\n",
       "      <td>0.000000e+00</td>\n",
       "      <td>9.990000e+00</td>\n",
       "      <td>0.000000e+00</td>\n",
       "    </tr>\n",
       "    <tr>\n",
       "      <th>50%</th>\n",
       "      <td>1.349029e+06</td>\n",
       "      <td>0.000000e+00</td>\n",
       "      <td>0.000000e+00</td>\n",
       "      <td>1.909000e+01</td>\n",
       "      <td>0.000000e+00</td>\n",
       "    </tr>\n",
       "    <tr>\n",
       "      <th>75%</th>\n",
       "      <td>2.060686e+06</td>\n",
       "      <td>4.400000e+00</td>\n",
       "      <td>5.900000e+01</td>\n",
       "      <td>4.599000e+01</td>\n",
       "      <td>0.000000e+00</td>\n",
       "    </tr>\n",
       "    <tr>\n",
       "      <th>max</th>\n",
       "      <td>2.828593e+06</td>\n",
       "      <td>5.000000e+00</td>\n",
       "      <td>1.356658e+06</td>\n",
       "      <td>1.000000e+05</td>\n",
       "      <td>5.000000e+04</td>\n",
       "    </tr>\n",
       "  </tbody>\n",
       "</table>\n",
       "</div>"
      ],
      "text/plain": [
       "                uid         stars       reviews         price  \\\n",
       "count  2.443651e+06  2.443651e+06  2.443651e+06  2.443651e+06   \n",
       "mean   1.370545e+06  2.152836e+00  4.806278e+02  8.924381e+01   \n",
       "std    8.160562e+05  2.194865e+00  5.944124e+03  3.456089e+02   \n",
       "min    1.000000e+00  0.000000e+00  0.000000e+00  0.000000e+00   \n",
       "25%    6.589215e+05  0.000000e+00  0.000000e+00  9.990000e+00   \n",
       "50%    1.349029e+06  0.000000e+00  0.000000e+00  1.909000e+01   \n",
       "75%    2.060686e+06  4.400000e+00  5.900000e+01  4.599000e+01   \n",
       "max    2.828593e+06  5.000000e+00  1.356658e+06  1.000000e+05   \n",
       "\n",
       "       boughtInLastMonth  \n",
       "count       2.443651e+06  \n",
       "mean        2.589699e+01  \n",
       "std         2.404837e+02  \n",
       "min         0.000000e+00  \n",
       "25%         0.000000e+00  \n",
       "50%         0.000000e+00  \n",
       "75%         0.000000e+00  \n",
       "max         5.000000e+04  "
      ]
     },
     "execution_count": 5,
     "metadata": {},
     "output_type": "execute_result"
    }
   ],
   "source": [
    "df.describe()"
   ]
  },
  {
   "cell_type": "markdown",
   "id": "656488e7",
   "metadata": {},
   "source": [
    "1."
   ]
  },
  {
   "cell_type": "code",
   "execution_count": 6,
   "id": "9795d44b",
   "metadata": {},
   "outputs": [
    {
     "name": "stdout",
     "output_type": "stream",
     "text": [
      "category\n",
      "Sports & Outdoors                         836265\n",
      "Beauty                                     19312\n",
      "Handmade Clothing, Shoes & Accessories     19229\n",
      "Bath & Body                                19092\n",
      "Birthday Gifts                             18978\n",
      "                                           ...  \n",
      "Motorbike Chassis                            107\n",
      "Alexa Built-In Devices                       107\n",
      "Plugs                                        107\n",
      "Smart Home Security & Lighting               104\n",
      "Smart Speakers                                54\n",
      "Name: count, Length: 296, dtype: int64\n"
     ]
    }
   ],
   "source": [
    "category_counts = df['category'].value_counts()\n",
    "print(category_counts)"
   ]
  },
  {
   "cell_type": "code",
   "execution_count": 7,
   "id": "ad7b2a8c",
   "metadata": {},
   "outputs": [],
   "source": [
    "#The top list categories are:\n",
    "# Sports & Outdoors                         836265\n",
    "#Beauty                                     19312\n",
    "#Handmade Clothing, Shoes & Accessories     19229\n",
    "#Bath & Body                                19092\n",
    "#Birthday Gifts                             18978"
   ]
  },
  {
   "cell_type": "markdown",
   "id": "8cfa0ec5",
   "metadata": {},
   "source": [
    "2."
   ]
  },
  {
   "cell_type": "code",
   "execution_count": 8,
   "id": "e2a655f6",
   "metadata": {},
   "outputs": [
    {
     "data": {
      "text/plain": [
       "<Axes: xlabel='category'>"
      ]
     },
     "execution_count": 8,
     "metadata": {},
     "output_type": "execute_result"
    },
    {
     "data": {
      "image/png": "[encoded data removed]",
      "text/plain": [
       "<Figure size 640x480 with 1 Axes>"
      ]
     },
     "metadata": {},
     "output_type": "display_data"
    }
   ],
   "source": [
    "sns.barplot(x = category_counts.index [:10], y=category_counts.values[:10])"
   ]
  },
  {
   "cell_type": "markdown",
   "id": "44000d2b",
   "metadata": {},
   "source": [
    "3."
   ]
  },
  {
   "cell_type": "code",
   "execution_count": 9,
   "id": "7d1a1020",
   "metadata": {},
   "outputs": [
    {
     "data": {
      "image/png": "[encoded data removed]",
      "text/plain": [
       "<Figure size 640x480 with 1 Axes>"
      ]
     },
     "metadata": {},
     "output_type": "display_data"
    }
   ],
   "source": [
    "Top5_category = category_counts.head(5)\n",
    "top5 = category_counts.head(5)\n",
    "\n",
    "plt.pie(top5.values)\n",
    "plt.show()"
   ]
  },
  {
   "cell_type": "code",
   "execution_count": 10,
   "id": "d785d5a5",
   "metadata": {},
   "outputs": [],
   "source": [
    "# Yes sport articles dominate the piechart"
   ]
  },
  {
   "cell_type": "markdown",
   "id": "22c68d8f",
   "metadata": {},
   "source": [
    "### Part 2: Delving into Product Pricing\n",
    "\n",
    "**Business Question**: How are products priced on Amazon UK, and are there specific price points or ranges that are more common?\n",
    "\n",
    "1. **Measures of Centrality**:\n",
    "    - Calculate the mean, median, and mode for the `price` of products.\n",
    "    - What's the average price point of products listed? How does this compare with the most common price point (mode)?\n",
    "\n",
    "2. **Measures of Dispersion**:\n",
    "    - Determine the variance, standard deviation, range, and interquartile range for product `price`.\n",
    "    - How varied are the product prices? Are there any indicators of a significant spread in prices?\n",
    "\n",
    "3. **Visualizations**:\n",
    "    - Is there a specific price range where most products fall? Plot a histogram to visualize the distribution of product prices. *If its hard to read these diagrams, think why this is, and explain how it could be solved.*.\n",
    "    - Are there products that are priced significantly higher than the rest? Use a box plot to showcase the spread and potential outliers in product pricing. \n"
   ]
  },
  {
   "cell_type": "markdown",
   "id": "7c9ddbb4",
   "metadata": {},
   "source": [
    "1."
   ]
  },
  {
   "cell_type": "code",
   "execution_count": 19,
   "id": "67b7163c",
   "metadata": {},
   "outputs": [
    {
     "name": "stdout",
     "output_type": "stream",
     "text": [
      "89.24380943923663\n",
      "19.09\n",
      "9.99\n"
     ]
    }
   ],
   "source": [
    "mean_price = df['price'].mean()\n",
    "median_price = df['price'].median()\n",
    "mode_price = df['price'].mode()[0] \n",
    "\n",
    "print(mean_price)\n",
    "print(median_price)\n",
    "print(mode_price)"
   ]
  },
  {
   "cell_type": "code",
   "execution_count": 20,
   "id": "b93409ef",
   "metadata": {},
   "outputs": [],
   "source": [
    "#Comparing all of them:\n",
    "# Looking at the mean, the value is skewing negativately the chart\n",
    "# the median is the strongest against outliers.\n",
    "# the mode shows the most common price listed."
   ]
  },
  {
   "cell_type": "markdown",
   "id": "dcc8b95e",
   "metadata": {},
   "source": [
    "2."
   ]
  },
  {
   "cell_type": "code",
   "execution_count": 21,
   "id": "2fb9ff23",
   "metadata": {},
   "outputs": [
    {
     "name": "stdout",
     "output_type": "stream",
     "text": [
      "119445.48532256528\n",
      "345.60886175352226\n",
      "100000.0\n",
      "36.0\n"
     ]
    }
   ],
   "source": [
    "Price_variance = df['price'].var()\n",
    "price_std = df['price'].std()\n",
    "price_range = df['price'].max() - df['price'].min()\n",
    "quarter1 = df['price'].quantile(0.25)\n",
    "quarter4 = df['price'].quantile(0.75)\n",
    "interquarter = quarter4 - quarter1\n",
    "\n",
    "print (Price_variance)\n",
    "print(price_std)\n",
    "print(price_range)\n",
    "print(interquarter)\n"
   ]
  },
  {
   "cell_type": "code",
   "execution_count": 22,
   "id": "3d78d841",
   "metadata": {},
   "outputs": [],
   "source": [
    "# The variance is very high, wich means that the prices are allover\n",
    "# the range is huge, probably we have luxury items\n",
    "# the interquartile shows us where 50% of the values are concentrated\n"
   ]
  },
  {
   "cell_type": "markdown",
   "id": "a2585019",
   "metadata": {},
   "source": [
    "3."
   ]
  },
  {
   "cell_type": "code",
   "execution_count": 23,
   "id": "701ea37f",
   "metadata": {},
   "outputs": [
    {
     "data": {
      "image/png": "[encoded data removed]",
      "text/plain": [
       "<Figure size 640x480 with 1 Axes>"
      ]
     },
     "metadata": {},
     "output_type": "display_data"
    }
   ],
   "source": [
    "sns.histplot(df['price'], bins=100, kde=True) \n",
    "plt.xlim(0, 1000)\n",
    "plt.show()"
   ]
  },
  {
   "cell_type": "code",
   "execution_count": 26,
   "id": "a9ffdf15",
   "metadata": {},
   "outputs": [],
   "source": [
    "# the majority of the products are cheaper\n",
    "# Means that this marketplace is dominated by acessible products, and there is a \"premium (more expensive) segment\"\n"
   ]
  },
  {
   "cell_type": "code",
   "execution_count": 25,
   "id": "0c86fa66",
   "metadata": {},
   "outputs": [
    {
     "data": {
      "image/png": "[encoded data removed]",
      "text/plain": [
       "<Figure size 640x480 with 1 Axes>"
      ]
     },
     "metadata": {},
     "output_type": "display_data"
    }
   ],
   "source": [
    "sns.boxplot(x=df['price'])\n",
    "plt.xlim(0, 200)\n",
    "plt.show()"
   ]
  },
  {
   "cell_type": "code",
   "execution_count": 27,
   "id": "cf6e8a1f",
   "metadata": {},
   "outputs": [],
   "source": [
    "# The plot box shows where the central pricing is  (between Q1 and Q3)\n",
    "# the points outside (outliers) the box shows the much more expensive products"
   ]
  },
  {
   "cell_type": "markdown",
   "id": "d10df32c",
   "metadata": {},
   "source": [
    "### Part 3: Unpacking Product Ratings\n",
    "\n",
    "**Business Question**: How do customers rate products on Amazon UK, and are there any patterns or tendencies in the ratings?\n",
    "\n",
    "1. **Measures of Centrality**:\n",
    "    - Calculate the mean, median, and mode for the `rating` of products.\n",
    "    - How do customers generally rate products? Is there a common trend?\n",
    "\n",
    "2. **Measures of Dispersion**:\n",
    "    - Determine the variance, standard deviation, and interquartile range for product `rating`.\n",
    "    - Are the ratings consistent, or is there a wide variation in customer feedback?\n",
    "\n",
    "3. **Shape of the Distribution**:\n",
    "    - Calculate the skewness and kurtosis for the `rating` column. \n",
    "    - Are the ratings normally distributed, or do they lean towards higher or lower values?\n",
    "\n",
    "4. **Visualizations**:\n",
    "    - Plot a histogram to visualize the distribution of product ratings. Is there a specific rating that is more common?"
   ]
  },
  {
   "cell_type": "markdown",
   "id": "0c7daf3b",
   "metadata": {},
   "source": [
    "1."
   ]
  },
  {
   "cell_type": "code",
   "execution_count": 32,
   "id": "a1f8ab61",
   "metadata": {},
   "outputs": [
    {
     "data": {
      "text/plain": [
       "stars\n",
       "0.0    1225641\n",
       "4.5     151577\n",
       "4.6     136995\n",
       "4.4     136165\n",
       "5.0     128492\n",
       "4.3     112564\n",
       "4.7      94566\n",
       "4.2      86871\n",
       "4.0      66089\n",
       "4.1      65115\n",
       "4.8      41858\n",
       "3.9      36555\n",
       "3.8      27876\n",
       "3.7      21137\n",
       "3.6      16219\n",
       "3.5      14673\n",
       "3.0      12819\n",
       "4.9      11081\n",
       "3.4      10355\n",
       "1.0       8484\n",
       "3.3       8269\n",
       "3.2       5771\n",
       "3.1       4679\n",
       "2.0       3901\n",
       "2.9       3341\n",
       "2.8       2306\n",
       "2.7       2104\n",
       "2.5       2103\n",
       "2.6       1579\n",
       "2.4       1060\n",
       "2.3        734\n",
       "2.2        602\n",
       "2.1        540\n",
       "1.5        404\n",
       "1.9        300\n",
       "1.8        249\n",
       "1.7        177\n",
       "1.4        149\n",
       "1.6        147\n",
       "1.3         78\n",
       "1.2         23\n",
       "1.1          3\n",
       "Name: count, dtype: int64"
      ]
     },
     "execution_count": 32,
     "metadata": {},
     "output_type": "execute_result"
    }
   ],
   "source": [
    "df['stars'].value_counts()"
   ]
  },
  {
   "cell_type": "code",
   "execution_count": 33,
   "id": "91b7a4b2",
   "metadata": {},
   "outputs": [],
   "source": [
    "df_stars = df[df['stars'] > 0]"
   ]
  },
  {
   "cell_type": "code",
   "execution_count": 34,
   "id": "5482e2f9",
   "metadata": {},
   "outputs": [
    {
     "name": "stdout",
     "output_type": "stream",
     "text": [
      "4.31916076222691\n",
      "4.4\n",
      "4.5\n"
     ]
    }
   ],
   "source": [
    "df_stars = df[df['stars'] > 0]\n",
    "\n",
    "mean_rating = df_stars['stars'].mean()\n",
    "median_rating = df_stars['stars'].median()\n",
    "mode_rating = df_stars['stars'].mode()[0]\n",
    "\n",
    "print(mean_rating)\n",
    "print(median_rating)\n",
    "print(mode_rating)"
   ]
  },
  {
   "cell_type": "code",
   "execution_count": null,
   "id": "93fc388c",
   "metadata": {},
   "outputs": [],
   "source": [
    "# I noticed first that the mean was low, and the mode was 0, witch means that is not correct, so i decided to remove the 0.0 stars, that means they have not been rewied\n",
    "# It has a very high rating 4.3 stars means that the majority of the clients are satisfied with the products\n"
   ]
  },
  {
   "cell_type": "markdown",
   "id": "ece9f2f0",
   "metadata": {},
   "source": [
    "2."
   ]
  },
  {
   "cell_type": "code",
   "execution_count": 36,
   "id": "213782b2",
   "metadata": {},
   "outputs": [
    {
     "name": "stdout",
     "output_type": "stream",
     "text": [
      "0.3083433752380519\n",
      "0.5552867504614637\n",
      "5.0\n",
      "0.5\n"
     ]
    }
   ],
   "source": [
    "rating_variance = df_stars['stars'].var()\n",
    "rating_std = df_stars['stars'].std()\n",
    "rating_range = df_stars['stars'].max() - df['stars'].min()\n",
    "quarter1_rating = df_stars['stars'].quantile(0.25)\n",
    "quarter4_rating = df_stars['stars'].quantile(0.75)\n",
    "interquarter_rating = quarter4_rating - quarter1_rating\n",
    "\n",
    "print (rating_variance)\n",
    "print(rating_std)\n",
    "print(rating_range)\n",
    "print(interquarter_rating)\n"
   ]
  },
  {
   "cell_type": "code",
   "execution_count": null,
   "id": "9d23f42d",
   "metadata": {},
   "outputs": [],
   "source": [
    "# There is a small variance, clients rate the products consistent, and a high level of satisfaction\n",
    "# The deviance is short so it is near the median\n",
    "# The interquarter means that the interval beween the values is very narrow\n"
   ]
  },
  {
   "cell_type": "markdown",
   "id": "ba0be00f",
   "metadata": {},
   "source": [
    "3."
   ]
  },
  {
   "cell_type": "code",
   "execution_count": 37,
   "id": "8c3a8fc5",
   "metadata": {},
   "outputs": [
    {
     "name": "stdout",
     "output_type": "stream",
     "text": [
      "-2.3795681122127945\n",
      "9.78193769066435\n"
     ]
    }
   ],
   "source": [
    "Skewness = df_stars['stars'].skew()\n",
    "kurtosis = df_stars['stars'].kurt()\n",
    "\n",
    "print (Skewness)\n",
    "print (kurtosis)"
   ]
  },
  {
   "cell_type": "code",
   "execution_count": 38,
   "id": "68927466",
   "metadata": {},
   "outputs": [],
   "source": [
    "# The skewness negative tells us that the distribution is skewed to the left side, wich mean that the majority of the stars are high (between 5, 4)\n",
    "# There are few products with low star rating\n",
    "# The kurtosis tells us that the distribution is sharp, means also that the consentration is between 5 and 4\n",
    "# There are few products outside of this peak"
   ]
  },
  {
   "cell_type": "markdown",
   "id": "611f66bd",
   "metadata": {},
   "source": [
    "4."
   ]
  },
  {
   "cell_type": "code",
   "execution_count": 41,
   "id": "7f0723cb",
   "metadata": {},
   "outputs": [
    {
     "data": {
      "image/png": "[encoded data removed]",
      "text/plain": [
       "<Figure size 640x480 with 1 Axes>"
      ]
     },
     "metadata": {},
     "output_type": "display_data"
    }
   ],
   "source": [
    "sns.histplot(df_stars['stars'], bins=10, kde=True)\n",
    "plt.show()"
   ]
  },
  {
   "cell_type": "code",
   "execution_count": 42,
   "id": "a336c9b8",
   "metadata": {},
   "outputs": [],
   "source": [
    "# The most common Rating is 4.4 stars"
   ]
  }
 ],
 "metadata": {
  "kernelspec": {
   "display_name": "base",
   "language": "python",
   "name": "python3"
  },
  "language_info": {
   "codemirror_mode": {
    "name": "ipython",
    "version": 3
   },
   "file_extension": ".py",
   "mimetype": "text/x-python",
   "name": "python",
   "nbconvert_exporter": "python",
   "pygments_lexer": "ipython3",
   "version": "3.13.5"
  }
 },
 "nbformat": 4,
 "nbformat_minor": 5
}
